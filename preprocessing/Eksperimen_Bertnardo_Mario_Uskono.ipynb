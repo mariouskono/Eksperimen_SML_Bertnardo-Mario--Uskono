{
  "nbformat": 4,
  "nbformat_minor": 0,
  "metadata": {
    "colab": {
      "provenance": [],
      "gpuType": "T4"
    },
    "kernelspec": {
      "name": "python3",
      "display_name": "Python 3"
    },
    "language_info": {
      "name": "python"
    },
    "accelerator": "GPU"
  },
  "cells": [
    {
      "cell_type": "markdown",
      "source": [
        "# **1. Perkenalan Dataset**\n"
      ],
      "metadata": {
        "id": "kZLRMFl0JyyQ"
      }
    },
    {
      "cell_type": "markdown",
      "source": [
        "### **Perkenalan Dataset: Bali Tourist Attractions Dataset from Google Maps**\n",
        "\n",
        "#### **Deskripsi Dataset**\n",
        "\n",
        "Dataset ini berisi informasi tentang tempat wisata di Bali yang dikumpulkan melalui scraping otomatis dari Google Maps. Dataset ini mencakup **761 tempat wisata** yang tersebar di **9 kabupaten/kota** di Pulau Bali. Tujuan dari dataset ini adalah untuk memberikan gambaran yang komprehensif tentang lokasi, kategori, dan popularitas destinasi wisata di Bali.\n",
        "\n",
        "#### **Sumber Data**\n",
        "\n",
        "Data dikumpulkan melalui **scraping otomatis** dari **Google Maps**. Rating dan link diperoleh langsung dari halaman tempat wisata masing-masing di Google Maps. Dataset ini mencakup berbagai kategori populer tempat wisata di Bali, mulai dari taman alam, pantai, situs budaya, hingga tempat wisata umum.\n",
        "\n",
        "#### **Deskripsi Kolom**\n",
        "\n",
        "* **nama**: Nama tempat wisata.\n",
        "* **kategori**: Kategori/jenis tempat wisata (misalnya: Alam, Budaya, Rekreasi, Umum).\n",
        "* **kabupaten\\_kota**: Kabupaten atau kota tempat wisata tersebut berada.\n",
        "* **rating**: Rating rata-rata pengunjung (skala 1-5).\n",
        "* **preferensi**: Klasifikasi preferensi wisata (misalnya: Wisata Alam, Wisata Budaya).\n",
        "* **link\\_lokasi**: URL ke halaman lokasi tempat wisata di Google Maps.\n",
        "* **latitude**: Koordinat latitude tempat wisata.\n",
        "* **longitude**: Koordinat longitude tempat wisata.\n",
        "* **link\\_gambar**: URL gambar tempat wisata atau teks pengganti.\n",
        "\n",
        "#### **Tujuan Dataset**\n",
        "\n",
        "* Mendukung penelitian dan analisis terkait pariwisata Bali.\n",
        "* Memfasilitasi pengembangan aplikasi berbasis peta dan rekomendasi wisata menggunakan data nyata.\n",
        "* Membantu dalam pemetaan dan promosi destinasi wisata Bali secara lebih efektif.\n",
        "* Menyediakan data komprehensif untuk pemerintah daerah dan pemangku kepentingan industri pariwisata.\n",
        "\n",
        "#### **Contoh Data**\n",
        "\n",
        "| nama                | kategori | kabupaten\\_kota  | rating | preferensi      | link                                                    | latitude  | longitude   |\n",
        "| ------------------- | -------- | ---------------- | ------ | --------------- | ------------------------------------------------------- | --------- | ----------- |\n",
        "| Taman Mumbul Sangeh | Alam     | Kabupaten Badung | 4.6    | Wisata Alam     | [Link](https://www.google.com/maps/place/Taman+Mumbul)  | -8.483959 | 115.2122881 |\n",
        "| Pantai Mengening    | Rekreasi | Kabupaten Badung | 4.7    | Wisata Rekreasi | [Link](https://www.google.com/maps/place/Pantai+Mengen) | -8.639532 | 115.1007188 |\n",
        "\n",
        "#### **Cara Menggunakan Dataset**\n",
        "\n",
        "* Dataset ini dapat diimpor dan digunakan dalam berbagai alat analisis data seperti Python (pandas), R, atau perangkat lunak GIS.\n",
        "* Kolom **latitude** dan **longitude** dapat digunakan untuk memvisualisasikan tempat wisata di peta.\n",
        "* Kolom **rating** dapat digunakan untuk analisis popularitas dan kualitas destinasi wisata.\n",
        "* Kolom **kategori** dan **preferensi** dapat membantu dalam segmentasi jenis wisata.\n",
        "\n",
        "#### **Lisensi**\n",
        "\n",
        "Dataset ini disediakan untuk tujuan penelitian dan pengembangan aplikasi. Penggunaan dataset ini harus mematuhi kebijakan penggunaan data Google Maps dan menghormati hak kekayaan intelektual.\n",
        "\n",
        "#### **Kontak**\n",
        "\n",
        "Untuk pertanyaan atau diskusi lebih lanjut mengenai dataset ini, Anda dapat menghubungi:\n",
        "\n",
        "* **Nama**: Bertnardo Mario Uskono\n",
        "* **Email**: [bertnardouskono@gmail.com](mailto:bertnardouskono@gmail.com)\n",
        "\n",
        "---"
      ],
      "metadata": {
        "id": "hssSDn-5n3HR"
      }
    },
    {
      "cell_type": "markdown",
      "source": [
        "# **2. Import Library**"
      ],
      "metadata": {
        "id": "fKADPWcFKlj3"
      }
    },
    {
      "cell_type": "markdown",
      "source": [
        "### Langkah 2: Import Library\n",
        "\n",
        "Untuk memulai, kita perlu mengimpor pustaka (library) Python yang diperlukan untuk analisis data dan pembangunan model machine learning. Berikut adalah beberapa pustaka yang umum digunakan:\n",
        "\n",
        "Pustaka-pustaka ini akan membantu dalam:\n",
        "* **pandas** dan **numpy** untuk manipulasi data.\n",
        "* **matplotlib** dan **seaborn** untuk visualisasi data.\n",
        "* **mlflow** untuk pelacakan eksperimen dan manajemen model.\n",
        "* **sklearn** untuk pembangunan dan evaluasi model machine learning.\n",
        "\n"
      ],
      "metadata": {
        "id": "LgA3ERnVn84N"
      }
    },
    {
      "cell_type": "code",
      "source": [
        "!pip install mlflow --quiet"
      ],
      "metadata": {
        "id": "UwuDtQjTPSD8"
      },
      "execution_count": 6,
      "outputs": []
    },
    {
      "cell_type": "code",
      "source": [
        "import pandas as pd\n",
        "import numpy as np\n",
        "import matplotlib.pyplot as plt\n",
        "import seaborn as sns\n",
        "import mlflow\n",
        "import mlflow.sklearn\n",
        "from sklearn.model_selection import train_test_split\n",
        "from sklearn.ensemble import RandomForestClassifier\n",
        "from sklearn.metrics import accuracy_score, classification_report"
      ],
      "metadata": {
        "id": "BlmvjLY9M4Yj"
      },
      "execution_count": 3,
      "outputs": []
    },
    {
      "cell_type": "markdown",
      "source": [
        "# **3. Memuat Dataset**"
      ],
      "metadata": {
        "id": "f3YIEnAFKrKL"
      }
    },
    {
      "cell_type": "markdown",
      "source": [
        "### **Langkah 3: Memuat Dataset**\n",
        "\n",
        "Sekarang, kita akan memuat dataset yang telah Anda pilih ke dalam notebook. Langkah ini sangat penting untuk memastikan bahwa dataset telah dimuat dengan benar dan dapat diproses lebih lanjut.\n",
        "\n",
        "#### **Langkah 3.1: Memuat Dataset Menggunakan Pandas**"
      ],
      "metadata": {
        "id": "Ey3ItwTen_7E"
      }
    },
    {
      "cell_type": "code",
      "source": [
        "file_path = '/content/dataset_tempat_wisata_bali.csv'\n",
        "df = pd.read_csv(file_path)\n",
        "\n",
        "df.head()"
      ],
      "metadata": {
        "id": "GHCGNTyrM5fS",
        "colab": {
          "base_uri": "https://localhost:8080/",
          "height": 206
        },
        "outputId": "81d77191-8ae0-428f-cb39-c3e6dc129408"
      },
      "execution_count": 4,
      "outputs": [
        {
          "output_type": "execute_result",
          "data": {
            "text/plain": [
              "                     nama kategori    kabupaten_kota  rating   preferensi  \\\n",
              "0     Taman Mumbul Sangeh     Alam  Kabupaten Badung     4.6  Wisata Alam   \n",
              "1    Sangeh Monkey Forest     Alam  Kabupaten Badung     4.6  Wisata Alam   \n",
              "2     Objek Wisata Sangeh     Umum  Kabupaten Badung     4.6  Wisata Umum   \n",
              "3   Satria Gatotkaca Park     Umum  Kabupaten Badung     4.6  Wisata Umum   \n",
              "4  Desa Wisata Penarungan     Umum  Kabupaten Badung     5.0  Wisata Umum   \n",
              "\n",
              "                                         link_lokasi  latitude   longitude  \\\n",
              "0  https://www.google.com/maps/place/Taman+Mumbul... -8.483959  115.212288   \n",
              "1  https://www.google.com/maps/place/Sangeh+Monke... -8.481774  115.206739   \n",
              "2  https://www.google.com/maps/place/Objek+Wisata... -8.481566  115.206546   \n",
              "3  https://www.google.com/maps/place/Satria+Gatot... -8.744388  115.178867   \n",
              "4  https://www.google.com/maps/place/Desa+Wisata+... -8.539637  115.198893   \n",
              "\n",
              "                                         link_gambar  \n",
              "0  https://lh3.googleusercontent.com/p/AF1QipPniB...  \n",
              "1  https://lh3.googleusercontent.com/p/AF1QipN2_T...  \n",
              "2  https://lh3.googleusercontent.com/p/AF1QipO1t7...  \n",
              "3  https://lh3.googleusercontent.com/p/AF1QipP3kd...  \n",
              "4  https://lh3.googleusercontent.com/p/AF1QipO-JZ...  "
            ],
            "text/html": [
              "\n",
              "  <div id=\"df-71487a2e-40a7-428a-8cc5-209b860d0bca\" class=\"colab-df-container\">\n",
              "    <div>\n",
              "<style scoped>\n",
              "    .dataframe tbody tr th:only-of-type {\n",
              "        vertical-align: middle;\n",
              "    }\n",
              "\n",
              "    .dataframe tbody tr th {\n",
              "        vertical-align: top;\n",
              "    }\n",
              "\n",
              "    .dataframe thead th {\n",
              "        text-align: right;\n",
              "    }\n",
              "</style>\n",
              "<table border=\"1\" class=\"dataframe\">\n",
              "  <thead>\n",
              "    <tr style=\"text-align: right;\">\n",
              "      <th></th>\n",
              "      <th>nama</th>\n",
              "      <th>kategori</th>\n",
              "      <th>kabupaten_kota</th>\n",
              "      <th>rating</th>\n",
              "      <th>preferensi</th>\n",
              "      <th>link_lokasi</th>\n",
              "      <th>latitude</th>\n",
              "      <th>longitude</th>\n",
              "      <th>link_gambar</th>\n",
              "    </tr>\n",
              "  </thead>\n",
              "  <tbody>\n",
              "    <tr>\n",
              "      <th>0</th>\n",
              "      <td>Taman Mumbul Sangeh</td>\n",
              "      <td>Alam</td>\n",
              "      <td>Kabupaten Badung</td>\n",
              "      <td>4.6</td>\n",
              "      <td>Wisata Alam</td>\n",
              "      <td>https://www.google.com/maps/place/Taman+Mumbul...</td>\n",
              "      <td>-8.483959</td>\n",
              "      <td>115.212288</td>\n",
              "      <td>https://lh3.googleusercontent.com/p/AF1QipPniB...</td>\n",
              "    </tr>\n",
              "    <tr>\n",
              "      <th>1</th>\n",
              "      <td>Sangeh Monkey Forest</td>\n",
              "      <td>Alam</td>\n",
              "      <td>Kabupaten Badung</td>\n",
              "      <td>4.6</td>\n",
              "      <td>Wisata Alam</td>\n",
              "      <td>https://www.google.com/maps/place/Sangeh+Monke...</td>\n",
              "      <td>-8.481774</td>\n",
              "      <td>115.206739</td>\n",
              "      <td>https://lh3.googleusercontent.com/p/AF1QipN2_T...</td>\n",
              "    </tr>\n",
              "    <tr>\n",
              "      <th>2</th>\n",
              "      <td>Objek Wisata Sangeh</td>\n",
              "      <td>Umum</td>\n",
              "      <td>Kabupaten Badung</td>\n",
              "      <td>4.6</td>\n",
              "      <td>Wisata Umum</td>\n",
              "      <td>https://www.google.com/maps/place/Objek+Wisata...</td>\n",
              "      <td>-8.481566</td>\n",
              "      <td>115.206546</td>\n",
              "      <td>https://lh3.googleusercontent.com/p/AF1QipO1t7...</td>\n",
              "    </tr>\n",
              "    <tr>\n",
              "      <th>3</th>\n",
              "      <td>Satria Gatotkaca Park</td>\n",
              "      <td>Umum</td>\n",
              "      <td>Kabupaten Badung</td>\n",
              "      <td>4.6</td>\n",
              "      <td>Wisata Umum</td>\n",
              "      <td>https://www.google.com/maps/place/Satria+Gatot...</td>\n",
              "      <td>-8.744388</td>\n",
              "      <td>115.178867</td>\n",
              "      <td>https://lh3.googleusercontent.com/p/AF1QipP3kd...</td>\n",
              "    </tr>\n",
              "    <tr>\n",
              "      <th>4</th>\n",
              "      <td>Desa Wisata Penarungan</td>\n",
              "      <td>Umum</td>\n",
              "      <td>Kabupaten Badung</td>\n",
              "      <td>5.0</td>\n",
              "      <td>Wisata Umum</td>\n",
              "      <td>https://www.google.com/maps/place/Desa+Wisata+...</td>\n",
              "      <td>-8.539637</td>\n",
              "      <td>115.198893</td>\n",
              "      <td>https://lh3.googleusercontent.com/p/AF1QipO-JZ...</td>\n",
              "    </tr>\n",
              "  </tbody>\n",
              "</table>\n",
              "</div>\n",
              "    <div class=\"colab-df-buttons\">\n",
              "\n",
              "  <div class=\"colab-df-container\">\n",
              "    <button class=\"colab-df-convert\" onclick=\"convertToInteractive('df-71487a2e-40a7-428a-8cc5-209b860d0bca')\"\n",
              "            title=\"Convert this dataframe to an interactive table.\"\n",
              "            style=\"display:none;\">\n",
              "\n",
              "  <svg xmlns=\"http://www.w3.org/2000/svg\" height=\"24px\" viewBox=\"0 -960 960 960\">\n",
              "    <path d=\"M120-120v-720h720v720H120Zm60-500h600v-160H180v160Zm220 220h160v-160H400v160Zm0 220h160v-160H400v160ZM180-400h160v-160H180v160Zm440 0h160v-160H620v160ZM180-180h160v-160H180v160Zm440 0h160v-160H620v160Z\"/>\n",
              "  </svg>\n",
              "    </button>\n",
              "\n",
              "  <style>\n",
              "    .colab-df-container {\n",
              "      display:flex;\n",
              "      gap: 12px;\n",
              "    }\n",
              "\n",
              "    .colab-df-convert {\n",
              "      background-color: #E8F0FE;\n",
              "      border: none;\n",
              "      border-radius: 50%;\n",
              "      cursor: pointer;\n",
              "      display: none;\n",
              "      fill: #1967D2;\n",
              "      height: 32px;\n",
              "      padding: 0 0 0 0;\n",
              "      width: 32px;\n",
              "    }\n",
              "\n",
              "    .colab-df-convert:hover {\n",
              "      background-color: #E2EBFA;\n",
              "      box-shadow: 0px 1px 2px rgba(60, 64, 67, 0.3), 0px 1px 3px 1px rgba(60, 64, 67, 0.15);\n",
              "      fill: #174EA6;\n",
              "    }\n",
              "\n",
              "    .colab-df-buttons div {\n",
              "      margin-bottom: 4px;\n",
              "    }\n",
              "\n",
              "    [theme=dark] .colab-df-convert {\n",
              "      background-color: #3B4455;\n",
              "      fill: #D2E3FC;\n",
              "    }\n",
              "\n",
              "    [theme=dark] .colab-df-convert:hover {\n",
              "      background-color: #434B5C;\n",
              "      box-shadow: 0px 1px 3px 1px rgba(0, 0, 0, 0.15);\n",
              "      filter: drop-shadow(0px 1px 2px rgba(0, 0, 0, 0.3));\n",
              "      fill: #FFFFFF;\n",
              "    }\n",
              "  </style>\n",
              "\n",
              "    <script>\n",
              "      const buttonEl =\n",
              "        document.querySelector('#df-71487a2e-40a7-428a-8cc5-209b860d0bca button.colab-df-convert');\n",
              "      buttonEl.style.display =\n",
              "        google.colab.kernel.accessAllowed ? 'block' : 'none';\n",
              "\n",
              "      async function convertToInteractive(key) {\n",
              "        const element = document.querySelector('#df-71487a2e-40a7-428a-8cc5-209b860d0bca');\n",
              "        const dataTable =\n",
              "          await google.colab.kernel.invokeFunction('convertToInteractive',\n",
              "                                                    [key], {});\n",
              "        if (!dataTable) return;\n",
              "\n",
              "        const docLinkHtml = 'Like what you see? Visit the ' +\n",
              "          '<a target=\"_blank\" href=https://colab.research.google.com/notebooks/data_table.ipynb>data table notebook</a>'\n",
              "          + ' to learn more about interactive tables.';\n",
              "        element.innerHTML = '';\n",
              "        dataTable['output_type'] = 'display_data';\n",
              "        await google.colab.output.renderOutput(dataTable, element);\n",
              "        const docLink = document.createElement('div');\n",
              "        docLink.innerHTML = docLinkHtml;\n",
              "        element.appendChild(docLink);\n",
              "      }\n",
              "    </script>\n",
              "  </div>\n",
              "\n",
              "\n",
              "    <div id=\"df-302387cc-0332-49c8-a908-4229584ab8d8\">\n",
              "      <button class=\"colab-df-quickchart\" onclick=\"quickchart('df-302387cc-0332-49c8-a908-4229584ab8d8')\"\n",
              "                title=\"Suggest charts\"\n",
              "                style=\"display:none;\">\n",
              "\n",
              "<svg xmlns=\"http://www.w3.org/2000/svg\" height=\"24px\"viewBox=\"0 0 24 24\"\n",
              "     width=\"24px\">\n",
              "    <g>\n",
              "        <path d=\"M19 3H5c-1.1 0-2 .9-2 2v14c0 1.1.9 2 2 2h14c1.1 0 2-.9 2-2V5c0-1.1-.9-2-2-2zM9 17H7v-7h2v7zm4 0h-2V7h2v10zm4 0h-2v-4h2v4z\"/>\n",
              "    </g>\n",
              "</svg>\n",
              "      </button>\n",
              "\n",
              "<style>\n",
              "  .colab-df-quickchart {\n",
              "      --bg-color: #E8F0FE;\n",
              "      --fill-color: #1967D2;\n",
              "      --hover-bg-color: #E2EBFA;\n",
              "      --hover-fill-color: #174EA6;\n",
              "      --disabled-fill-color: #AAA;\n",
              "      --disabled-bg-color: #DDD;\n",
              "  }\n",
              "\n",
              "  [theme=dark] .colab-df-quickchart {\n",
              "      --bg-color: #3B4455;\n",
              "      --fill-color: #D2E3FC;\n",
              "      --hover-bg-color: #434B5C;\n",
              "      --hover-fill-color: #FFFFFF;\n",
              "      --disabled-bg-color: #3B4455;\n",
              "      --disabled-fill-color: #666;\n",
              "  }\n",
              "\n",
              "  .colab-df-quickchart {\n",
              "    background-color: var(--bg-color);\n",
              "    border: none;\n",
              "    border-radius: 50%;\n",
              "    cursor: pointer;\n",
              "    display: none;\n",
              "    fill: var(--fill-color);\n",
              "    height: 32px;\n",
              "    padding: 0;\n",
              "    width: 32px;\n",
              "  }\n",
              "\n",
              "  .colab-df-quickchart:hover {\n",
              "    background-color: var(--hover-bg-color);\n",
              "    box-shadow: 0 1px 2px rgba(60, 64, 67, 0.3), 0 1px 3px 1px rgba(60, 64, 67, 0.15);\n",
              "    fill: var(--button-hover-fill-color);\n",
              "  }\n",
              "\n",
              "  .colab-df-quickchart-complete:disabled,\n",
              "  .colab-df-quickchart-complete:disabled:hover {\n",
              "    background-color: var(--disabled-bg-color);\n",
              "    fill: var(--disabled-fill-color);\n",
              "    box-shadow: none;\n",
              "  }\n",
              "\n",
              "  .colab-df-spinner {\n",
              "    border: 2px solid var(--fill-color);\n",
              "    border-color: transparent;\n",
              "    border-bottom-color: var(--fill-color);\n",
              "    animation:\n",
              "      spin 1s steps(1) infinite;\n",
              "  }\n",
              "\n",
              "  @keyframes spin {\n",
              "    0% {\n",
              "      border-color: transparent;\n",
              "      border-bottom-color: var(--fill-color);\n",
              "      border-left-color: var(--fill-color);\n",
              "    }\n",
              "    20% {\n",
              "      border-color: transparent;\n",
              "      border-left-color: var(--fill-color);\n",
              "      border-top-color: var(--fill-color);\n",
              "    }\n",
              "    30% {\n",
              "      border-color: transparent;\n",
              "      border-left-color: var(--fill-color);\n",
              "      border-top-color: var(--fill-color);\n",
              "      border-right-color: var(--fill-color);\n",
              "    }\n",
              "    40% {\n",
              "      border-color: transparent;\n",
              "      border-right-color: var(--fill-color);\n",
              "      border-top-color: var(--fill-color);\n",
              "    }\n",
              "    60% {\n",
              "      border-color: transparent;\n",
              "      border-right-color: var(--fill-color);\n",
              "    }\n",
              "    80% {\n",
              "      border-color: transparent;\n",
              "      border-right-color: var(--fill-color);\n",
              "      border-bottom-color: var(--fill-color);\n",
              "    }\n",
              "    90% {\n",
              "      border-color: transparent;\n",
              "      border-bottom-color: var(--fill-color);\n",
              "    }\n",
              "  }\n",
              "</style>\n",
              "\n",
              "      <script>\n",
              "        async function quickchart(key) {\n",
              "          const quickchartButtonEl =\n",
              "            document.querySelector('#' + key + ' button');\n",
              "          quickchartButtonEl.disabled = true;  // To prevent multiple clicks.\n",
              "          quickchartButtonEl.classList.add('colab-df-spinner');\n",
              "          try {\n",
              "            const charts = await google.colab.kernel.invokeFunction(\n",
              "                'suggestCharts', [key], {});\n",
              "          } catch (error) {\n",
              "            console.error('Error during call to suggestCharts:', error);\n",
              "          }\n",
              "          quickchartButtonEl.classList.remove('colab-df-spinner');\n",
              "          quickchartButtonEl.classList.add('colab-df-quickchart-complete');\n",
              "        }\n",
              "        (() => {\n",
              "          let quickchartButtonEl =\n",
              "            document.querySelector('#df-302387cc-0332-49c8-a908-4229584ab8d8 button');\n",
              "          quickchartButtonEl.style.display =\n",
              "            google.colab.kernel.accessAllowed ? 'block' : 'none';\n",
              "        })();\n",
              "      </script>\n",
              "    </div>\n",
              "\n",
              "    </div>\n",
              "  </div>\n"
            ],
            "application/vnd.google.colaboratory.intrinsic+json": {
              "type": "dataframe",
              "variable_name": "df",
              "summary": "{\n  \"name\": \"df\",\n  \"rows\": 772,\n  \"fields\": [\n    {\n      \"column\": \"nama\",\n      \"properties\": {\n        \"dtype\": \"string\",\n        \"num_unique_values\": 753,\n        \"samples\": [\n          \"YOUTH PARK\",\n          \"Tanjung Kedungu\",\n          \"Kampoeng Palarejo Selfie Spot Jembrana\"\n        ],\n        \"semantic_type\": \"\",\n        \"description\": \"\"\n      }\n    },\n    {\n      \"column\": \"kategori\",\n      \"properties\": {\n        \"dtype\": \"category\",\n        \"num_unique_values\": 4,\n        \"samples\": [\n          \"Umum\",\n          \"Budaya\",\n          \"Alam\"\n        ],\n        \"semantic_type\": \"\",\n        \"description\": \"\"\n      }\n    },\n    {\n      \"column\": \"kabupaten_kota\",\n      \"properties\": {\n        \"dtype\": \"category\",\n        \"num_unique_values\": 9,\n        \"samples\": [\n          \"Kabupaten Tabanan\",\n          \"Kabupaten Bangli\",\n          \"Kabupaten Karangasem\"\n        ],\n        \"semantic_type\": \"\",\n        \"description\": \"\"\n      }\n    },\n    {\n      \"column\": \"rating\",\n      \"properties\": {\n        \"dtype\": \"number\",\n        \"std\": 0.265077841290215,\n        \"min\": 3.0,\n        \"max\": 5.0,\n        \"num_unique_values\": 19,\n        \"samples\": [\n          4.6,\n          4.1,\n          4.9\n        ],\n        \"semantic_type\": \"\",\n        \"description\": \"\"\n      }\n    },\n    {\n      \"column\": \"preferensi\",\n      \"properties\": {\n        \"dtype\": \"category\",\n        \"num_unique_values\": 4,\n        \"samples\": [\n          \"Wisata Umum\",\n          \"Wisata Budaya\",\n          \"Wisata Alam\"\n        ],\n        \"semantic_type\": \"\",\n        \"description\": \"\"\n      }\n    },\n    {\n      \"column\": \"link_lokasi\",\n      \"properties\": {\n        \"dtype\": \"string\",\n        \"num_unique_values\": 755,\n        \"samples\": [\n          \"https://www.google.com/maps/place/Temesi+Waterfall/data=!4m7!3m6!1s0x2dd217f2c2c1a7a7:0x1b2268fda8b723b9!8m2!3d-8.5525895!4d115.346867!16s%2Fg%2F11v0jfnzbp!19sChIJp6fBwvIX0i0RuSO3qP1oIhs?authuser=0&hl=en&rclk=1\",\n          \"https://www.google.com/maps/place/Wisata+Tirta+Srinadi/data=!4m7!3m6!1s0x2dd213dacaffda27:0x8e08627a5e1daf3b!8m2!3d-8.5539149!4d115.4128411!16s%2Fg%2F1q65fz_h1!19sChIJJ9r_ytoT0i0RO68dXnpiCI4?authuser=0&hl=en&rclk=1\",\n          \"https://www.google.com/maps/place/Pantai+Blue+Point/data=!4m7!3m6!1s0x2dd24f56940145e3:0x35ee51ff726d872c!8m2!3d-8.8152338!4d115.0893624!16s%2Fg%2F11nnwk76qz!19sChIJ40UBlFZP0i0RLIdtcv9R7jU?authuser=0&hl=en&rclk=1\"\n        ],\n        \"semantic_type\": \"\",\n        \"description\": \"\"\n      }\n    },\n    {\n      \"column\": \"latitude\",\n      \"properties\": {\n        \"dtype\": \"number\",\n        \"std\": 0.17697869532094979,\n        \"min\": -8.8480192,\n        \"max\": -8.0764197,\n        \"num_unique_values\": 752,\n        \"samples\": [\n          -8.5470255,\n          -8.2994915,\n          -8.4254565\n        ],\n        \"semantic_type\": \"\",\n        \"description\": \"\"\n      }\n    },\n    {\n      \"column\": \"longitude\",\n      \"properties\": {\n        \"dtype\": \"number\",\n        \"std\": 0.2575389308265835,\n        \"min\": 114.4375953,\n        \"max\": 115.6989865,\n        \"num_unique_values\": 752,\n        \"samples\": [\n          115.079887,\n          114.9989323,\n          115.6099359\n        ],\n        \"semantic_type\": \"\",\n        \"description\": \"\"\n      }\n    },\n    {\n      \"column\": \"link_gambar\",\n      \"properties\": {\n        \"dtype\": \"string\",\n        \"num_unique_values\": 756,\n        \"samples\": [\n          \"https://lh3.googleusercontent.com/p/AF1QipPi-3EIT60v60JLPQKybchuJy9z1AtxqS3Uvts9=w1200-h800-k-no\",\n          \"https://lh3.googleusercontent.com/p/AF1QipNmDUvnBCn1CEw0_kw7n-3g5dng_bbH3wDsrCS_=w1200-h800-k-no\",\n          \"https://lh3.googleusercontent.com/p/AF1QipOI3eMeUCBcPIBEfEPW39-cITuKRWPtdVLRmWzh=w1200-h800-k-no\"\n        ],\n        \"semantic_type\": \"\",\n        \"description\": \"\"\n      }\n    }\n  ]\n}"
            }
          },
          "metadata": {},
          "execution_count": 4
        }
      ]
    },
    {
      "cell_type": "markdown",
      "source": [
        "\n",
        "#### **Langkah 3.2: Memeriksa Dataset**\n",
        "\n",
        "Setelah dataset dimuat, kita perlu memeriksa beberapa hal untuk memastikan data sudah benar:\n",
        "\n",
        "1. **Struktur Dataset**: Pastikan kolom dan baris sudah benar.\n",
        "2. **Tipe Data**: Pastikan tipe data pada setiap kolom sesuai (misalnya, kolom `rating` seharusnya bertipe float, `latitude` dan `longitude` seharusnya bertipe float).\n",
        "3. **Missing Values**: Periksa apakah ada nilai yang hilang (missing) pada dataset."
      ],
      "metadata": {
        "id": "LISmZY_3QmF2"
      }
    },
    {
      "cell_type": "code",
      "source": [
        "print(df.info())\n",
        "\n",
        "print(df.describe())\n",
        "\n",
        "print(df.isnull().sum())"
      ],
      "metadata": {
        "colab": {
          "base_uri": "https://localhost:8080/"
        },
        "id": "Js5y1kcYPySm",
        "outputId": "6cae0717-d2e0-4638-cffc-d3011f212b45"
      },
      "execution_count": 5,
      "outputs": [
        {
          "output_type": "stream",
          "name": "stdout",
          "text": [
            "<class 'pandas.core.frame.DataFrame'>\n",
            "RangeIndex: 772 entries, 0 to 771\n",
            "Data columns (total 9 columns):\n",
            " #   Column          Non-Null Count  Dtype  \n",
            "---  ------          --------------  -----  \n",
            " 0   nama            772 non-null    object \n",
            " 1   kategori        772 non-null    object \n",
            " 2   kabupaten_kota  772 non-null    object \n",
            " 3   rating          772 non-null    float64\n",
            " 4   preferensi      772 non-null    object \n",
            " 5   link_lokasi     772 non-null    object \n",
            " 6   latitude        772 non-null    float64\n",
            " 7   longitude       772 non-null    float64\n",
            " 8   link_gambar     772 non-null    object \n",
            "dtypes: float64(3), object(6)\n",
            "memory usage: 54.4+ KB\n",
            "None\n",
            "           rating    latitude   longitude\n",
            "count  772.000000  772.000000  772.000000\n",
            "mean     4.526702   -8.442346  115.205907\n",
            "std      0.265078    0.176979    0.257539\n",
            "min      3.000000   -8.848019  114.437595\n",
            "25%      4.400000   -8.550947  115.100670\n",
            "50%      4.563351   -8.449254  115.217261\n",
            "75%      4.700000   -8.315404  115.360940\n",
            "max      5.000000   -8.076420  115.698987\n",
            "nama              0\n",
            "kategori          0\n",
            "kabupaten_kota    0\n",
            "rating            0\n",
            "preferensi        0\n",
            "link_lokasi       0\n",
            "latitude          0\n",
            "longitude         0\n",
            "link_gambar       0\n",
            "dtype: int64\n"
          ]
        }
      ]
    },
    {
      "cell_type": "markdown",
      "source": [
        "### **Langkah 4: Exploratory Data Analysis (EDA)**\n",
        "\n",
        "Setelah dataset berhasil dimuat, kita akan melakukan **Exploratory Data Analysis (EDA)** untuk memahami karakteristik dataset. Tujuan dari EDA adalah untuk mendapatkan wawasan tentang distribusi data, hubungan antar fitur, dan potensi masalah yang perlu diperbaiki (seperti missing values atau outliers).\n",
        "\n",
        "#### **Langkah 4.1: Memvisualisasikan Distribusi Data**\n",
        "\n",
        "Mari kita mulai dengan melihat distribusi data pada kolom-kolom penting, seperti **rating**, **kategori**, dan **preferensi**.\n",
        "\n",
        "\n",
        " **Tujuan**: Memahami sebaran nilai rating tempat wisata dan melihat apakah ada rating yang sangat rendah atau tinggi."
      ],
      "metadata": {
        "id": "bgZkbJLpK9UR"
      }
    },
    {
      "cell_type": "code",
      "source": [
        "plt.figure(figsize=(10, 6))\n",
        "sns.histplot(df['rating'], bins=20, kde=True)\n",
        "plt.title('Distribusi Rating Tempat Wisata')\n",
        "plt.xlabel('Rating')\n",
        "plt.ylabel('Frekuensi')\n",
        "plt.show()"
      ],
      "metadata": {
        "id": "dKeejtvxM6X1",
        "colab": {
          "base_uri": "https://localhost:8080/",
          "height": 564
        },
        "outputId": "86247ea0-d982-4526-cee2-cf770a0a7d53"
      },
      "execution_count": 7,
      "outputs": [
        {
          "output_type": "display_data",
          "data": {
            "text/plain": [
              "<Figure size 1000x600 with 1 Axes>"
            ],
            "image/png": "[encoded data removed]"
          },
          "metadata": {}
        }
      ]
    },
    {
      "cell_type": "markdown",
      "source": [
        "#### **Langkah 4.2: Menghitung Jumlah Unik pada Kolom Kategorikal**\n",
        "\n",
        "Untuk kolom kategorikal seperti **kategori** dan **preferensi**, kita ingin mengetahui jumlah kategori unik yang ada dalam dataset.\n",
        "\n",
        "**Tujuan**: Memastikan bahwa kategori yang ada dalam dataset tidak ada kesalahan atau duplikasi yang tidak sesuai."
      ],
      "metadata": {
        "id": "ssC1UI7ERe35"
      }
    },
    {
      "cell_type": "code",
      "source": [
        "# Menampilkan jumlah kategori unik pada kolom 'kategori' dan 'preferensi'\n",
        "print(\"Jumlah kategori unik di 'kategori':\", df['kategori'].nunique())\n",
        "print(\"Jumlah kategori unik di 'preferensi':\", df['preferensi'].nunique())"
      ],
      "metadata": {
        "colab": {
          "base_uri": "https://localhost:8080/"
        },
        "id": "RhfinykvR1vS",
        "outputId": "49db4893-ed5e-450c-cf39-5fd60f33b9d8"
      },
      "execution_count": 8,
      "outputs": [
        {
          "output_type": "stream",
          "name": "stdout",
          "text": [
            "Jumlah kategori unik di 'kategori': 4\n",
            "Jumlah kategori unik di 'preferensi': 4\n"
          ]
        }
      ]
    },
    {
      "cell_type": "markdown",
      "source": [
        "#### **Langkah 4.3: Memeriksa Nilai Missing**\n",
        "\n",
        "Setelah itu, kita perlu memeriksa kolom mana saja yang memiliki nilai hilang (missing values) dan berapa banyaknya. Ini penting untuk memutuskan apakah kita perlu menghapus atau mengisi nilai yang hilang tersebut.\n",
        "\n",
        "**Tujuan**: Mengetahui kolom mana yang memiliki nilai hilang, sehingga kita bisa mengambil keputusan apakah harus menghapus atau mengisi nilai yang hilang tersebut."
      ],
      "metadata": {
        "id": "yHVaKgWyRvqO"
      }
    },
    {
      "cell_type": "code",
      "source": [
        "# Memeriksa nilai yang hilang pada setiap kolom\n",
        "missing_values = df.isnull().sum()\n",
        "print(missing_values)"
      ],
      "metadata": {
        "colab": {
          "base_uri": "https://localhost:8080/"
        },
        "id": "NECs2RMiSGQF",
        "outputId": "f7515706-37a6-4075-bee3-60e16f64b214"
      },
      "execution_count": 9,
      "outputs": [
        {
          "output_type": "stream",
          "name": "stdout",
          "text": [
            "nama              0\n",
            "kategori          0\n",
            "kabupaten_kota    0\n",
            "rating            0\n",
            "preferensi        0\n",
            "link_lokasi       0\n",
            "latitude          0\n",
            "longitude         0\n",
            "link_gambar       0\n",
            "dtype: int64\n"
          ]
        }
      ]
    },
    {
      "cell_type": "markdown",
      "source": [
        "#### **Langkah 4.4: Analisis Kolom Kategorikal**\n",
        "\n",
        "Kita juga dapat memvisualisasikan distribusi dari kolom kategorikal seperti **kategori** dan **preferensi** menggunakan grafik batang.\n",
        "\n",
        " **Tujuan**: Memahami seberapa banyak tempat wisata yang termasuk dalam masing-masing kategori."
      ],
      "metadata": {
        "id": "dlyu-crCSBJe"
      }
    },
    {
      "cell_type": "code",
      "source": [
        "# Visualisasi distribusi kategori tempat wisata\n",
        "plt.figure(figsize=(10, 6))\n",
        "sns.countplot(y='kategori', data=df)\n",
        "plt.title('Distribusi Kategori Tempat Wisata')\n",
        "plt.xlabel('Jumlah Tempat Wisata')\n",
        "plt.ylabel('Kategori')\n",
        "plt.show()"
      ],
      "metadata": {
        "colab": {
          "base_uri": "https://localhost:8080/",
          "height": 564
        },
        "id": "_uZAC12LSTNf",
        "outputId": "91027dac-eff7-4293-d846-86675b1c4905"
      },
      "execution_count": 10,
      "outputs": [
        {
          "output_type": "display_data",
          "data": {
            "text/plain": [
              "<Figure size 1000x600 with 1 Axes>"
            ],
            "image/png": "[encoded data removed]"
          },
          "metadata": {}
        }
      ]
    },
    {
      "cell_type": "markdown",
      "source": [
        "#### **Langkah 4.5: Korelasi Antar Fitur**\n",
        "\n",
        "Selanjutnya, kita ingin melihat korelasi antara fitur numerik, seperti **rating**, **latitude**, dan **longitude**. Ini bisa memberi wawasan tentang bagaimana beberapa fitur berhubungan satu sama lain.\n",
        "\n",
        "**Tujuan**: Memahami hubungan antara fitur numerik dan apakah ada korelasi yang signifikan yang bisa dimanfaatkan."
      ],
      "metadata": {
        "id": "fpz9wieVSOV_"
      }
    },
    {
      "cell_type": "code",
      "source": [
        "# Memeriksa korelasi antara fitur numerik\n",
        "corr = df[['rating', 'latitude', 'longitude']].corr()\n",
        "\n",
        "# Visualisasi korelasi menggunakan heatmap\n",
        "plt.figure(figsize=(8, 6))\n",
        "sns.heatmap(corr, annot=True, cmap='coolwarm', linewidths=0.5)\n",
        "plt.title('Korelasi antara Fitur Numerik')\n",
        "plt.show()"
      ],
      "metadata": {
        "colab": {
          "base_uri": "https://localhost:8080/",
          "height": 545
        },
        "id": "bIdlIR-TSlOQ",
        "outputId": "8573b55b-5f8d-49ab-9f30-76c463f9d56b"
      },
      "execution_count": 11,
      "outputs": [
        {
          "output_type": "display_data",
          "data": {
            "text/plain": [
              "<Figure size 800x600 with 2 Axes>"
            ],
            "image/png": "[encoded data removed]"
          },
          "metadata": {}
        }
      ]
    },
    {
      "cell_type": "markdown",
      "source": [
        "#### **Langkah 4.6: Menangani Outliers**\n",
        "\n",
        "Jika diperlukan, kita dapat memeriksa apakah ada **outliers** pada kolom numerik, seperti **rating** atau **latitude** dan **longitude**. Ini penting untuk menjaga kualitas model yang akan dibangun nanti.\n",
        "\n",
        " **Tujuan**: Mengidentifikasi nilai yang jauh lebih tinggi atau rendah dari nilai umum pada kolom **rating**, yang bisa menjadi outliers."
      ],
      "metadata": {
        "id": "_SbkTn_lScT8"
      }
    },
    {
      "cell_type": "code",
      "source": [
        "# Boxplot untuk memeriksa outliers pada kolom rating\n",
        "plt.figure(figsize=(10, 6))\n",
        "sns.boxplot(x=df['rating'])\n",
        "plt.title('Outliers pada Kolom Rating')\n",
        "plt.show()"
      ],
      "metadata": {
        "colab": {
          "base_uri": "https://localhost:8080/",
          "height": 564
        },
        "id": "O26ZqPj5SzgS",
        "outputId": "d19f62da-12cd-4096-9b46-cb2a8e6eb740"
      },
      "execution_count": 12,
      "outputs": [
        {
          "output_type": "display_data",
          "data": {
            "text/plain": [
              "<Figure size 1000x600 with 1 Axes>"
            ],
            "image/png": "[encoded data removed]"
          },
          "metadata": {}
        }
      ]
    },
    {
      "cell_type": "markdown",
      "source": [
        "### **Langkah 4.7: Menyimpulkan Hasil EDA**\n",
        "\n",
        "Setelah melakukan **Exploratory Data Analysis (EDA)**, kita harus membuat **kesimpulan** mengenai dataset ini. Beberapa poin yang perlu diperhatikan:\n",
        "\n",
        "* **Data sudah bersih**, tanpa missing values, sehingga tidak perlu langkah imputation.\n",
        "* Kolom-kolom seperti **latitude**, **longitude**, **kategori**, dan **preferensi** sangat relevan dan akan berguna untuk analisis dan pemodelan.\n",
        "* **Outliers** pada kolom **rating** tidak perlu dihapus secara otomatis karena bisa jadi informasi berharga.\n",
        "* Tidak ada korelasi yang kuat antar fitur numerik, tetapi **semua fitur** masih bisa dimanfaatkan untuk pemodelan."
      ],
      "metadata": {
        "id": "-EKm-WC0S-Ya"
      }
    },
    {
      "cell_type": "markdown",
      "source": [
        "# **5. Data Preprocessing**"
      ],
      "metadata": {
        "id": "cpgHfgnSK3ip"
      }
    },
    {
      "cell_type": "markdown",
      "source": [
        "### **Langkah 5: Data Preprocessing**\n",
        "\n",
        "Pada tahap ini, kita akan mempersiapkan data agar siap digunakan dalam pelatihan model machine learning. Proses **Data Preprocessing** melibatkan beberapa langkah untuk memastikan kualitas data yang optimal, serta untuk menangani masalah seperti nilai yang hilang, duplikasi, dan outliers.\n",
        "\n",
        "Berikut adalah tahapan yang perlu dilakukan untuk preprocessing data Anda.\n",
        "\n",
        "---\n",
        "\n",
        "#### **Langkah 5.1: Menghapus atau Menangani Data Kosong (Missing Values)**\n",
        "\n",
        "Meskipun pada tahap **EDA** kita telah memeriksa apakah ada missing values dan kita tahu bahwa dataset kita tidak mengandung nilai yang hilang, namun penting untuk melakukan pengecekan tambahan dan mempersiapkan cara untuk menangani missing values di masa depan.\n",
        "\n",
        "Jika ada nilai yang hilang, Anda bisa:\n",
        "\n",
        "* **Menghapus** baris dengan missing values.\n",
        "* **Mengisi** missing values dengan nilai tertentu (misalnya, rata-rata untuk fitur numerik atau modus untuk fitur kategorikal).\n",
        "\n",
        "Contoh kode:"
      ],
      "metadata": {
        "id": "COf8KUPXLg5r"
      }
    },
    {
      "cell_type": "code",
      "source": [
        "# Menghapus baris dengan missing values (jika ada)\n",
        "df_cleaned = df.dropna()\n",
        "\n",
        "# Atau mengisi missing values dengan nilai tertentu\n",
        "df['rating'].fillna(df['rating'].mean(), inplace=True)  # Mengisi nilai hilang pada kolom 'rating' dengan rata-rata"
      ],
      "metadata": {
        "colab": {
          "base_uri": "https://localhost:8080/"
        },
        "id": "HIzWcSrHYP41",
        "outputId": "455177f4-2b75-458d-c375-cd05f50ec977"
      },
      "execution_count": 14,
      "outputs": [
        {
          "output_type": "stream",
          "name": "stderr",
          "text": [
            "/tmp/ipython-input-14-911826475.py:5: FutureWarning: A value is trying to be set on a copy of a DataFrame or Series through chained assignment using an inplace method.\n",
            "The behavior will change in pandas 3.0. This inplace method will never work because the intermediate object on which we are setting values always behaves as a copy.\n",
            "\n",
            "For example, when doing 'df[col].method(value, inplace=True)', try using 'df.method({col: value}, inplace=True)' or df[col] = df[col].method(value) instead, to perform the operation inplace on the original object.\n",
            "\n",
            "\n",
            "  df['rating'].fillna(df['rating'].mean(), inplace=True)  # Mengisi nilai hilang pada kolom 'rating' dengan rata-rata\n"
          ]
        }
      ]
    },
    {
      "cell_type": "markdown",
      "source": [
        "#### **Langkah 5.2: Menghapus Data Duplikat**\n",
        "\n",
        "Data duplikat dapat mengganggu analisis dan kualitas model. Oleh karena itu, kita perlu memeriksa dan menghapus duplikat jika ada.\n"
      ],
      "metadata": {
        "id": "NcijaXISZBi6"
      }
    },
    {
      "cell_type": "code",
      "source": [
        "# Menghapus duplikat\n",
        "df_cleaned = df.drop_duplicates()"
      ],
      "metadata": {
        "id": "FtrjnkK6ZQ09"
      },
      "execution_count": 15,
      "outputs": []
    },
    {
      "cell_type": "markdown",
      "source": [
        "#### **Langkah 5.3: Normalisasi atau Standarisasi Fitur**\n",
        "\n",
        "Untuk model seperti **KNN** atau **SVM**, fitur numerik perlu dinormalisasi atau distandarisasi agar model dapat bekerja dengan optimal. Di sini, kita akan menggunakan **StandardScaler** dari **scikit-learn** untuk melakukan standarisasi data numerik seperti **rating**, **latitude**, dan **longitude**.\n",
        "\n",
        "**Tujuan**: Memastikan bahwa semua fitur numerik berada dalam skala yang sama agar model machine learning tidak terpengaruh oleh perbedaan skala antar fitur.\n",
        "\n"
      ],
      "metadata": {
        "id": "GryuOxcyZOm_"
      }
    },
    {
      "cell_type": "code",
      "source": [
        "from sklearn.preprocessing import StandardScaler\n",
        "\n",
        "scaler = StandardScaler()\n",
        "df[['rating', 'latitude', 'longitude']] = scaler.fit_transform(df[['rating', 'latitude', 'longitude']])"
      ],
      "metadata": {
        "id": "_O6oJAmrZbAa"
      },
      "execution_count": 16,
      "outputs": []
    },
    {
      "cell_type": "markdown",
      "source": [
        "#### **Langkah 5.4: Deteksi dan Penanganan Outlier**\n",
        "\n",
        "Jika diperlukan, kita dapat memeriksa dan menangani outliers di kolom **rating**, **latitude**, dan **longitude**.\n",
        "\n",
        "Sebagai contoh, kita bisa menggunakan **IQR (Interquartile Range)** untuk mendeteksi outliers. Jika ada outliers yang tidak relevan, kita bisa menghapusnya."
      ],
      "metadata": {
        "id": "lgH_L3slZY6T"
      }
    },
    {
      "cell_type": "code",
      "source": [
        "# Menggunakan IQR untuk mendeteksi outliers pada kolom rating\n",
        "Q1 = df['rating'].quantile(0.25)\n",
        "Q3 = df['rating'].quantile(0.75)\n",
        "IQR = Q3 - Q1\n",
        "lower_bound = Q1 - 1.5 * IQR\n",
        "upper_bound = Q3 + 1.5 * IQR\n",
        "\n",
        "df_cleaned = df[(df['rating'] >= lower_bound) & (df['rating'] <= upper_bound)]"
      ],
      "metadata": {
        "id": "n7zrs8m2ZlX_"
      },
      "execution_count": 17,
      "outputs": []
    },
    {
      "cell_type": "markdown",
      "source": [
        "#### **Langkah 5.5: Encoding Data Kategorikal**\n",
        "\n",
        "Beberapa kolom, seperti **kategori** dan **preferensi**, berisi data kategorikal. Kita perlu mengonversi data kategorikal menjadi format numerik agar dapat digunakan dalam model machine learning.\n",
        "\n",
        "Contoh menggunakan **Label Encoding** untuk mengubah data kategorikal menjadi numerik:"
      ],
      "metadata": {
        "id": "_-Ks5CXOZja5"
      }
    },
    {
      "cell_type": "code",
      "source": [
        "from sklearn.preprocessing import LabelEncoder\n",
        "\n",
        "encoder = LabelEncoder()\n",
        "\n",
        "# Mengubah kategori dan preferensi menjadi numerik\n",
        "df['kategori'] = encoder.fit_transform(df['kategori'])\n",
        "df['preferensi'] = encoder.fit_transform(df['preferensi'])"
      ],
      "metadata": {
        "id": "wdcQKIlWZ2Ui"
      },
      "execution_count": 18,
      "outputs": []
    },
    {
      "cell_type": "markdown",
      "source": [
        "Jika kolom memiliki banyak kategori, Anda bisa menggunakan **One-Hot Encoding** untuk menghindari penurunan kinerja model."
      ],
      "metadata": {
        "id": "kHSgR18-ZzQb"
      }
    },
    {
      "cell_type": "code",
      "source": [
        "# Menggunakan One-Hot Encoding pada kolom kategorikal\n",
        "df = pd.get_dummies(df, columns=['kategori', 'preferensi'])"
      ],
      "metadata": {
        "id": "Jznn_JVdZ51U"
      },
      "execution_count": 19,
      "outputs": []
    },
    {
      "cell_type": "markdown",
      "source": [
        "#### **Langkah 5.6: Binning (Pengelompokan Data)**\n",
        "\n",
        "Jika diperlukan, Anda bisa melakukan **binning** (pengelompokan data) untuk mengubah fitur numerik menjadi kategori. Misalnya, mengelompokkan **rating** menjadi beberapa kategori seperti \"Rendah\", \"Menengah\", dan \"Tinggi\"."
      ],
      "metadata": {
        "id": "p2JMSo5OZtfP"
      }
    },
    {
      "cell_type": "code",
      "source": [
        "# Membuat bin untuk rating\n",
        "bins = [0, 2.5, 4, 5]\n",
        "labels = ['Rendah', 'Menengah', 'Tinggi']\n",
        "df['rating_binned'] = pd.cut(df['rating'], bins=bins, labels=labels)"
      ],
      "metadata": {
        "id": "Og8pGV0-iDLz"
      },
      "execution_count": 20,
      "outputs": []
    },
    {
      "cell_type": "code",
      "source": [
        "# Menyimpan dataset hasil preprocessing ke dalam file CSV\n",
        "df_cleaned.to_csv('bali_tourist_attractions_preprocessed.csv', index=False)\n"
      ],
      "metadata": {
        "id": "6K42-t6gcKRR"
      },
      "execution_count": 21,
      "outputs": []
    },
    {
      "cell_type": "markdown",
      "source": [
        "### **Kesimpulan dari Tahapan Preprocessing**\n",
        "\n",
        "* **Missing Values**: Tidak ada nilai yang hilang dalam dataset ini, tetapi jika ditemukan nilai hilang, kita dapat memilih untuk menghapus atau mengisi nilai hilang.\n",
        "* **Data Duplikat**: Kita telah menghapus baris duplikat.\n",
        "* **Normalisasi/Standarisasi**: Fitur numerik sudah dinormalisasi menggunakan **StandardScaler**.\n",
        "* **Outliers**: Outliers pada **rating** sudah ditangani dengan menggunakan metode **IQR**.\n",
        "* **Encoding**: Kolom **kategori** dan **preferensi** telah diencode menggunakan **LabelEncoder** dan **One-Hot Encoding** jika diperlukan.\n",
        "* **Binning**: Kolom **rating** sudah dikelompokkan menjadi kategori **Rendah**, **Menengah**, dan **Tinggi**.\n",
        "\n",
        "---"
      ],
      "metadata": {
        "id": "QRdm2SEhZ-ti"
      }
    }
  ]
}